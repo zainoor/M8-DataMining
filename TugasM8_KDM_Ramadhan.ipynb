{
  "nbformat": 4,
  "nbformat_minor": 0,
  "metadata": {
    "colab": {
      "provenance": [],
      "gpuType": "L4",
      "authorship_tag": "ABX9TyNxGuPR5eb6waE6rzOt3QSJ",
      "include_colab_link": true
    },
    "kernelspec": {
      "name": "python3",
      "display_name": "Python 3"
    },
    "language_info": {
      "name": "python"
    },
    "accelerator": "GPU"
  },
  "cells": [
    {
      "cell_type": "markdown",
      "metadata": {
        "id": "view-in-github",
        "colab_type": "text"
      },
      "source": [
        "<a href=\"https://colab.research.google.com/github/zainoor/M8-DataMining/blob/main/TugasM8_KDM_Ramadhan.ipynb\" target=\"_parent\"><img src=\"https://colab.research.google.com/assets/colab-badge.svg\" alt=\"Open In Colab\"/></a>"
      ]
    },
    {
      "cell_type": "code",
      "source": [
        "# ✅ Import libraries\n",
        "import pandas as pd\n",
        "import numpy as np\n",
        "from sklearn.model_selection import train_test_split\n",
        "from sklearn.tree import DecisionTreeClassifier, export_text\n",
        "from sklearn.metrics import classification_report, confusion_matrix\n",
        "import time"
      ],
      "metadata": {
        "id": "eqBhQPdYES9U"
      },
      "execution_count": null,
      "outputs": []
    },
    {
      "cell_type": "code",
      "source": [
        "# ✅ Load dataset (replace with your actual path or method)\n",
        "df = pd.read_csv('/content/fraudTrain.csv')  # Update path as needed"
      ],
      "metadata": {
        "id": "9eeYV5nuEVRL"
      },
      "execution_count": null,
      "outputs": []
    },
    {
      "cell_type": "code",
      "source": [
        "# ✅ Drop irrelevant or high-cardinality columns\n",
        "cols_to_drop = ['trans_date_trans_time', 'cc_num', 'merchant', 'first', 'last', 'street',\n",
        "                'city', 'state', 'job', 'dob', 'trans_num', 'unix_time']\n",
        "df = df.drop(columns=cols_to_drop)"
      ],
      "metadata": {
        "id": "xGOgeZuIEeTx"
      },
      "execution_count": null,
      "outputs": []
    },
    {
      "cell_type": "code",
      "source": [
        "# ✅ Drop rows with missing values (especially in target)\n",
        "df = df.dropna(subset=['is_fraud'])\n",
        "df = df.dropna()  # Optional: drop rows with any missing data\n",
        "\n",
        "# ✅ Convert categorical columns to dummy variables\n",
        "df = pd.get_dummies(df, drop_first=True)"
      ],
      "metadata": {
        "id": "zKbi6aFgEsIP"
      },
      "execution_count": null,
      "outputs": []
    },
    {
      "cell_type": "code",
      "source": [
        "# ✅ Sample the data to reduce memory (keep all fraud rows)\n",
        "df_fraud = df[df['is_fraud'] == 1]\n",
        "df_nonfraud = df[df['is_fraud'] == 0].sample(n=50000, random_state=42)  # balance\n",
        "df_sampled = pd.concat([df_fraud, df_nonfraud]).sample(frac=1, random_state=42)"
      ],
      "metadata": {
        "id": "QdFDtmgKEuW3"
      },
      "execution_count": null,
      "outputs": []
    },
    {
      "cell_type": "code",
      "source": [
        "# ✅ Split into X/y\n",
        "X = df_sampled.drop('is_fraud', axis=1)\n",
        "y = df_sampled['is_fraud']\n",
        "\n",
        "# ✅ Train-test split\n",
        "X_train, X_test, y_train, y_test = train_test_split(X, y, test_size=0.2, random_state=42)"
      ],
      "metadata": {
        "id": "IBvP-Aq5ExtG"
      },
      "execution_count": null,
      "outputs": []
    },
    {
      "cell_type": "code",
      "source": [
        "# Free memory\n",
        "del df, df_fraud, df_nonfraud\n",
        "gc.collect()"
      ],
      "metadata": {
        "colab": {
          "base_uri": "https://localhost:8080/"
        },
        "id": "6lugU4hKLqbs",
        "outputId": "d8680e84-b5a8-428f-d87f-dbf78856002f"
      },
      "execution_count": null,
      "outputs": [
        {
          "output_type": "execute_result",
          "data": {
            "text/plain": [
              "64"
            ]
          },
          "metadata": {},
          "execution_count": 85
        }
      ]
    },
    {
      "cell_type": "code",
      "source": [
        "# Free memory\n",
        "del df_sampled\n",
        "gc.collect()"
      ],
      "metadata": {
        "colab": {
          "base_uri": "https://localhost:8080/"
        },
        "id": "cAAkZVm-LrOY",
        "outputId": "58e009a6-d5ef-40ef-eaf3-deb79a62f446"
      },
      "execution_count": null,
      "outputs": [
        {
          "output_type": "execute_result",
          "data": {
            "text/plain": [
              "12"
            ]
          },
          "metadata": {},
          "execution_count": 86
        }
      ]
    },
    {
      "cell_type": "code",
      "source": [
        "# ✅ Train Decision Tree with class_weight to handle imbalance\n",
        "start_dt = time.time()\n",
        "\n",
        "clf_dt = DecisionTreeClassifier(criterion='entropy', max_depth=6, class_weight='balanced', random_state=42)\n",
        "clf_dt.fit(X_train, y_train)\n",
        "y_pred_dt = clf_dt.predict(X_test)\n",
        "\n",
        "end_dt = time.time()\n",
        "waktu_dt = end_dt - start_dt\n"
      ],
      "metadata": {
        "id": "AZ6Ov1guE5U4"
      },
      "execution_count": null,
      "outputs": []
    },
    {
      "cell_type": "code",
      "source": [
        "# ✅ Evaluation metrics\n",
        "print(\"=== EVALUASI ===\")\n",
        "print(confusion_matrix(y_test, y_pred_dt))\n",
        "print(classification_report(y_test, y_pred_dt))\n",
        "# ✅ Output prediction results\n",
        "\n",
        "print(\"\\n=== PREDIKSI - Decision Tree ===\")\n",
        "print(\"Contoh 20 Prediksi:\", y_pred_dt[:20])\n",
        "print(f\"\\nWaktu Eksekusi Decision Tree: {waktu_dt:.4f} detik\")"
      ],
      "metadata": {
        "colab": {
          "base_uri": "https://localhost:8080/"
        },
        "id": "P_Lqk1cfFKW9",
        "outputId": "ddb02b59-331c-4c41-8fbe-a46fe332534a"
      },
      "execution_count": null,
      "outputs": [
        {
          "output_type": "stream",
          "name": "stdout",
          "text": [
            "=== EVALUASI ===\n",
            "[[9224  762]\n",
            " [  15   99]]\n",
            "              precision    recall  f1-score   support\n",
            "\n",
            "         0.0       1.00      0.92      0.96      9986\n",
            "         1.0       0.11      0.87      0.20       114\n",
            "\n",
            "    accuracy                           0.92     10100\n",
            "   macro avg       0.56      0.90      0.58     10100\n",
            "weighted avg       0.99      0.92      0.95     10100\n",
            "\n",
            "\n",
            "=== PREDIKSI - Decision Tree ===\n",
            "Contoh 20 Prediksi: [0. 0. 0. 0. 0. 0. 0. 0. 0. 1. 0. 0. 0. 0. 0. 0. 0. 0. 1. 0.]\n",
            "\n",
            "Waktu Eksekusi Decision Tree: 33.5228 detik\n"
          ]
        }
      ]
    },
    {
      "cell_type": "code",
      "source": [
        "# ✅ Human-readable rules from decision tree\n",
        "print(\"=== RULES - Decision Tree ===\")\n",
        "tree_rules = export_text(clf_dt, feature_names=list(X.columns))\n",
        "print(tree_rules)"
      ],
      "metadata": {
        "colab": {
          "base_uri": "https://localhost:8080/"
        },
        "id": "KWj7li7AFLwk",
        "outputId": "8eea2470-c821-4729-c899-c5aa9da86631"
      },
      "execution_count": null,
      "outputs": [
        {
          "output_type": "stream",
          "name": "stdout",
          "text": [
            "=== RULES - Decision Tree ===\n",
            "|--- amt <= 259.69\n",
            "|   |--- amt <= 24.19\n",
            "|   |   |--- category_gas_transport <= 0.50\n",
            "|   |   |   |--- amt <= 6.01\n",
            "|   |   |   |   |--- Unnamed: 0_4693 <= 0.50\n",
            "|   |   |   |   |   |--- class: 0.0\n",
            "|   |   |   |   |--- Unnamed: 0_4693 >  0.50\n",
            "|   |   |   |   |   |--- class: 1.0\n",
            "|   |   |   |--- amt >  6.01\n",
            "|   |   |   |   |--- amt <= 15.05\n",
            "|   |   |   |   |   |--- category_misc_pos <= 0.50\n",
            "|   |   |   |   |   |   |--- class: 0.0\n",
            "|   |   |   |   |   |--- category_misc_pos >  0.50\n",
            "|   |   |   |   |   |   |--- class: 1.0\n",
            "|   |   |   |   |--- amt >  15.05\n",
            "|   |   |   |   |   |--- category_home <= 0.50\n",
            "|   |   |   |   |   |   |--- class: 1.0\n",
            "|   |   |   |   |   |--- category_home >  0.50\n",
            "|   |   |   |   |   |   |--- class: 0.0\n",
            "|   |   |--- category_gas_transport >  0.50\n",
            "|   |   |   |--- Unnamed: 0_42499 <= 0.50\n",
            "|   |   |   |   |--- class: 1.0\n",
            "|   |   |   |--- Unnamed: 0_42499 >  0.50\n",
            "|   |   |   |   |--- class: 0.0\n",
            "|   |--- amt >  24.19\n",
            "|   |   |--- category_food_dining <= 0.50\n",
            "|   |   |   |--- amt <= 218.30\n",
            "|   |   |   |   |--- category_personal_care <= 0.50\n",
            "|   |   |   |   |   |--- Unnamed: 0_28791 <= 0.50\n",
            "|   |   |   |   |   |   |--- class: 0.0\n",
            "|   |   |   |   |   |--- Unnamed: 0_28791 >  0.50\n",
            "|   |   |   |   |   |   |--- class: 1.0\n",
            "|   |   |   |   |--- category_personal_care >  0.50\n",
            "|   |   |   |   |   |--- amt <= 51.61\n",
            "|   |   |   |   |   |   |--- class: 0.0\n",
            "|   |   |   |   |   |--- amt >  51.61\n",
            "|   |   |   |   |   |   |--- class: 0.0\n",
            "|   |   |   |--- amt >  218.30\n",
            "|   |   |   |   |--- category_home <= 0.50\n",
            "|   |   |   |   |   |--- Unnamed: 0_24241 <= 0.50\n",
            "|   |   |   |   |   |   |--- class: 0.0\n",
            "|   |   |   |   |   |--- Unnamed: 0_24241 >  0.50\n",
            "|   |   |   |   |   |   |--- class: 0.0\n",
            "|   |   |   |   |--- category_home >  0.50\n",
            "|   |   |   |   |   |--- city_pop <= 6209.50\n",
            "|   |   |   |   |   |   |--- class: 1.0\n",
            "|   |   |   |   |   |--- city_pop >  6209.50\n",
            "|   |   |   |   |   |   |--- class: 0.0\n",
            "|   |   |--- category_food_dining >  0.50\n",
            "|   |   |   |--- amt <= 92.78\n",
            "|   |   |   |   |--- Unnamed: 0_41605 <= 0.50\n",
            "|   |   |   |   |   |--- class: 0.0\n",
            "|   |   |   |   |--- Unnamed: 0_41605 >  0.50\n",
            "|   |   |   |   |   |--- class: 0.0\n",
            "|   |   |   |--- amt >  92.78\n",
            "|   |   |   |   |--- merch_long <= -81.47\n",
            "|   |   |   |   |   |--- Unnamed: 0_51461 <= 0.50\n",
            "|   |   |   |   |   |   |--- class: 0.0\n",
            "|   |   |   |   |   |--- Unnamed: 0_51461 >  0.50\n",
            "|   |   |   |   |   |   |--- class: 0.0\n",
            "|   |   |   |   |--- merch_long >  -81.47\n",
            "|   |   |   |   |   |--- city_pop <= 5479.00\n",
            "|   |   |   |   |   |   |--- class: 0.0\n",
            "|   |   |   |   |   |--- city_pop >  5479.00\n",
            "|   |   |   |   |   |   |--- class: 1.0\n",
            "|--- amt >  259.69\n",
            "|   |--- category_travel <= 0.50\n",
            "|   |   |--- category_grocery_pos <= 0.50\n",
            "|   |   |   |--- amt <= 648.41\n",
            "|   |   |   |   |--- gender_M <= 0.50\n",
            "|   |   |   |   |   |--- lat <= 34.65\n",
            "|   |   |   |   |   |   |--- class: 0.0\n",
            "|   |   |   |   |   |--- lat >  34.65\n",
            "|   |   |   |   |   |   |--- class: 1.0\n",
            "|   |   |   |   |--- gender_M >  0.50\n",
            "|   |   |   |   |   |--- class: 0.0\n",
            "|   |   |   |--- amt >  648.41\n",
            "|   |   |   |   |--- amt <= 1267.35\n",
            "|   |   |   |   |   |--- lat <= 26.50\n",
            "|   |   |   |   |   |   |--- class: 0.0\n",
            "|   |   |   |   |   |--- lat >  26.50\n",
            "|   |   |   |   |   |   |--- class: 1.0\n",
            "|   |   |   |   |--- amt >  1267.35\n",
            "|   |   |   |   |   |--- class: 0.0\n",
            "|   |   |--- category_grocery_pos >  0.50\n",
            "|   |   |   |--- Unnamed: 0_43724 <= 0.50\n",
            "|   |   |   |   |--- class: 1.0\n",
            "|   |   |   |--- Unnamed: 0_43724 >  0.50\n",
            "|   |   |   |   |--- class: 0.0\n",
            "|   |--- category_travel >  0.50\n",
            "|   |   |--- class: 0.0\n",
            "\n"
          ]
        }
      ]
    },
    {
      "cell_type": "code",
      "source": [
        "# ✅ Train Decision Tree with class_weight to handle imbalance\n",
        "start_dt = time.time()\n",
        "\n",
        "clf_dt = DecisionTreeClassifier(criterion='entropy', max_depth=6, class_weight='balanced', random_state=42)\n",
        "clf_dt.fit(X_train, y_train)\n",
        "y_pred_dt = clf_dt.predict(X_test)\n",
        "\n",
        "end_dt = time.time()\n",
        "waktu_dt = end_dt - start_dt\n"
      ],
      "metadata": {
        "id": "wm5lNFk5npsg"
      },
      "execution_count": null,
      "outputs": []
    },
    {
      "cell_type": "code",
      "source": [
        "# ✅ Evaluation metrics\n",
        "print(\"=== EVALUASI - Decision Tree ===\")\n",
        "print(confusion_matrix(y_test, y_pred_dt))\n",
        "print(classification_report(y_test, y_pred_dt))\n",
        "\n",
        "# ✅ Output prediction results\n",
        "print(\"\\n=== PREDIKSI - Decision Tree ===\")\n",
        "print(\"Contoh 20 Prediksi:\", y_pred_dt[:20])\n",
        "print(f\"\\nWaktu Eksekusi Decision Tree: {waktu_dt:.4f} detik\")"
      ],
      "metadata": {
        "id": "uDvveW3dnrSH"
      },
      "execution_count": null,
      "outputs": []
    },
    {
      "cell_type": "code",
      "source": [
        "# # ✅ Custom IF...THEN... rules in the requested format\n",
        "# def print_tree_rules(tree, feature_names):\n",
        "#     tree_ = tree.tree_\n",
        "#     feature_name = [\n",
        "#         feature_names[i] if i != _tree.TREE_UNDEFINED else \"undefined!\"\n",
        "#         for i in tree_.feature\n",
        "#     ]\n",
        "\n",
        "#     def recurse(node, depth, conditions):\n",
        "#         if tree_.feature[node] != _tree.TREE_UNDEFINED:\n",
        "#             name = feature_name[node]\n",
        "#             threshold = tree_.threshold[node]\n",
        "#             # Left branch (less than or equal to)\n",
        "#             left_conditions = conditions + [f\"{name} <= {threshold:.2f}\"]\n",
        "#             recurse(tree_.children_left[node], depth + 1, left_conditions)\n",
        "#             # Right branch (greater than)\n",
        "#             right_conditions = conditions + [f\"{name} > {threshold:.2f}\"]\n",
        "#             recurse(tree_.children_right[node], depth + 1, right_conditions)\n",
        "#         else:\n",
        "#             classes = tree.classes_\n",
        "#             pred = np.argmax(tree_.value[node])\n",
        "#             # Construct the rule in \"IF...THEN...\" format\n",
        "#             if conditions:\n",
        "#                 rule = \"IF \" + \" AND \".join(conditions) + f\" THEN is_fraud = {classes[pred]}\"\n",
        "#                 print(rule)\n",
        "\n",
        "#     # Start recursion from the root node (node 0) with empty conditions\n",
        "#     recurse(0, 1, [])\n",
        "\n",
        "# print(\"\\n=== IF...THEN... RULES ===\")\n",
        "# print_tree_rules(clf_dt, list(X.columns))"
      ],
      "metadata": {
        "id": "Yd3Va-yKFjGu"
      },
      "execution_count": null,
      "outputs": []
    },
    {
      "cell_type": "code",
      "source": [
        "# ✅ Import libraries\n",
        "import pandas as pd\n",
        "import numpy as np\n",
        "from sklearn.model_selection import train_test_split\n",
        "from sklearn.tree import DecisionTreeClassifier, export_text, _tree\n",
        "from sklearn.naive_bayes import GaussianNB\n",
        "from sklearn.metrics import classification_report, confusion_matrix\n",
        "import time\n",
        "import gc"
      ],
      "metadata": {
        "id": "Z8R8SWqDJptH"
      },
      "execution_count": null,
      "outputs": []
    },
    {
      "cell_type": "code",
      "source": [
        "# ✅ Load dataset and optimize memory usage\n",
        "df = pd.read_csv('/content/fraudTrain.csv')\n",
        "\n",
        "# ✅ Drop irrelevant/high-cardinality columns immediately\n",
        "cols_to_drop = ['trans_date_trans_time', 'cc_num', 'merchant', 'first', 'last', 'street',\n",
        "                'city', 'state', 'job', 'dob', 'trans_num', 'unix_time']\n",
        "df = df.drop(columns=cols_to_drop)"
      ],
      "metadata": {
        "id": "AWAhXcWtJsnO"
      },
      "execution_count": null,
      "outputs": []
    },
    {
      "cell_type": "code",
      "source": [
        "# ✅ Optimize data types to reduce memory usage\n",
        "for col in df.select_dtypes(include=['float64']).columns:\n",
        "    df[col] = df[col].astype('float32')\n",
        "for col in df.select_dtypes(include=['int64']).columns:\n",
        "    df[col] = df[col].astype('int32')"
      ],
      "metadata": {
        "id": "J-CI_3EIJwnp"
      },
      "execution_count": null,
      "outputs": []
    },
    {
      "cell_type": "code",
      "source": [
        "# ✅ Drop rows with missing values\n",
        "df = df.dropna(subset=['is_fraud'])\n",
        "df = df.dropna()\n",
        "\n",
        "# ✅ Select only relevant categorical columns for dummy variables\n",
        "categorical_cols = ['category', 'gender']  # Limit to most relevant columns\n",
        "df = pd.get_dummies(df, columns=categorical_cols, drop_first=True)"
      ],
      "metadata": {
        "id": "cACRET_nJyoO"
      },
      "execution_count": null,
      "outputs": []
    },
    {
      "cell_type": "code",
      "source": [
        "# ✅ Sample data aggressively to reduce memory (keep all fraud rows)\n",
        "df_fraud = df[df['is_fraud'] == 1]\n",
        "df_nonfraud = df[df['is_fraud'] == 0].sample(n=50000, random_state=42)  # Reduced from 50,000\n",
        "df_sampled = pd.concat([df_fraud, df_nonfraud]).sample(frac=1, random_state=42)"
      ],
      "metadata": {
        "id": "4hh6SC1NJ3ey"
      },
      "execution_count": null,
      "outputs": []
    },
    {
      "cell_type": "code",
      "source": [
        "# Free memory\n",
        "del df, df_fraud, df_nonfraud\n",
        "gc.collect()"
      ],
      "metadata": {
        "colab": {
          "base_uri": "https://localhost:8080/"
        },
        "id": "NhbNsv-AJ8Dc",
        "outputId": "efcc2e74-fcaa-4333-d0e8-625bdf1e551c"
      },
      "execution_count": null,
      "outputs": [
        {
          "output_type": "execute_result",
          "data": {
            "text/plain": [
              "8"
            ]
          },
          "metadata": {},
          "execution_count": 10
        }
      ]
    },
    {
      "cell_type": "code",
      "source": [
        "# ✅ Split into X/y\n",
        "X = df_sampled.drop('is_fraud', axis=1)\n",
        "y = df_sampled['is_fraud']\n",
        "\n",
        "# ✅ Train-test split\n",
        "X_train, X_test, y_train, y_test = train_test_split(X, y, test_size=0.2, random_state=42)"
      ],
      "metadata": {
        "id": "fTkQvnVEJ-T-"
      },
      "execution_count": null,
      "outputs": []
    },
    {
      "cell_type": "code",
      "source": [
        "# Free memory\n",
        "del df_sampled\n",
        "gc.collect()"
      ],
      "metadata": {
        "colab": {
          "base_uri": "https://localhost:8080/"
        },
        "id": "TdxVJH31KAYY",
        "outputId": "9a87b6f0-27e7-4ce5-ddae-f32020b932ac"
      },
      "execution_count": null,
      "outputs": [
        {
          "output_type": "execute_result",
          "data": {
            "text/plain": [
              "0"
            ]
          },
          "metadata": {},
          "execution_count": 12
        }
      ]
    },
    {
      "cell_type": "code",
      "source": [
        "# ✅ Train Decision Tree with class_weight to handle imbalance\n",
        "start_dt = time.time()\n",
        "\n",
        "clf_dt = DecisionTreeClassifier(criterion='entropy', max_depth=6, class_weight='balanced', random_state=42)\n",
        "clf_dt.fit(X_train, y_train)\n",
        "y_pred_dt = clf_dt.predict(X_test)\n",
        "\n",
        "end_dt = time.time()\n",
        "waktu_dt = end_dt - start_dt\n"
      ],
      "metadata": {
        "id": "wh8a0bnyKB-8"
      },
      "execution_count": null,
      "outputs": []
    },
    {
      "cell_type": "code",
      "source": [
        "# ✅ Human-readable rules from decision tree\n",
        "print(\"\\n=== RULES - Decision Tree ===\")\n",
        "tree_rules = export_text(clf_dt, feature_names=list(X.columns))\n",
        "print(tree_rules)"
      ],
      "metadata": {
        "colab": {
          "base_uri": "https://localhost:8080/"
        },
        "id": "kddzjyhzKKub",
        "outputId": "146393a2-4952-4754-853b-c306c6cfe305"
      },
      "execution_count": null,
      "outputs": [
        {
          "output_type": "stream",
          "name": "stdout",
          "text": [
            "\n",
            "=== RULES - Decision Tree ===\n",
            "|--- amt <= 259.69\n",
            "|   |--- amt <= 24.19\n",
            "|   |   |--- category_gas_transport <= 0.50\n",
            "|   |   |   |--- amt <= 6.01\n",
            "|   |   |   |   |--- Unnamed: 0 <= 4695.00\n",
            "|   |   |   |   |   |--- Unnamed: 0 <= 4692.00\n",
            "|   |   |   |   |   |   |--- class: 0.0\n",
            "|   |   |   |   |   |--- Unnamed: 0 >  4692.00\n",
            "|   |   |   |   |   |   |--- class: 1.0\n",
            "|   |   |   |   |--- Unnamed: 0 >  4695.00\n",
            "|   |   |   |   |   |--- class: 0.0\n",
            "|   |   |   |--- amt >  6.01\n",
            "|   |   |   |   |--- Unnamed: 0 <= 15503.50\n",
            "|   |   |   |   |   |--- class: 0.0\n",
            "|   |   |   |   |--- Unnamed: 0 >  15503.50\n",
            "|   |   |   |   |   |--- amt <= 15.05\n",
            "|   |   |   |   |   |   |--- class: 0.0\n",
            "|   |   |   |   |   |--- amt >  15.05\n",
            "|   |   |   |   |   |   |--- class: 1.0\n",
            "|   |   |--- category_gas_transport >  0.50\n",
            "|   |   |   |--- amt <= 17.91\n",
            "|   |   |   |   |--- class: 1.0\n",
            "|   |   |   |--- amt >  17.91\n",
            "|   |   |   |   |--- amt <= 18.78\n",
            "|   |   |   |   |   |--- class: 0.0\n",
            "|   |   |   |   |--- amt >  18.78\n",
            "|   |   |   |   |   |--- class: 1.0\n",
            "|   |--- amt >  24.19\n",
            "|   |   |--- category_food_dining <= 0.50\n",
            "|   |   |   |--- amt <= 218.30\n",
            "|   |   |   |   |--- category_personal_care <= 0.50\n",
            "|   |   |   |   |   |--- category_misc_pos <= 0.50\n",
            "|   |   |   |   |   |   |--- class: 0.0\n",
            "|   |   |   |   |   |--- category_misc_pos >  0.50\n",
            "|   |   |   |   |   |   |--- class: 0.0\n",
            "|   |   |   |   |--- category_personal_care >  0.50\n",
            "|   |   |   |   |   |--- amt <= 51.61\n",
            "|   |   |   |   |   |   |--- class: 0.0\n",
            "|   |   |   |   |   |--- amt >  51.61\n",
            "|   |   |   |   |   |   |--- class: 0.0\n",
            "|   |   |   |--- amt >  218.30\n",
            "|   |   |   |   |--- category_home <= 0.50\n",
            "|   |   |   |   |   |--- category_grocery_pos <= 0.50\n",
            "|   |   |   |   |   |   |--- class: 0.0\n",
            "|   |   |   |   |   |--- category_grocery_pos >  0.50\n",
            "|   |   |   |   |   |   |--- class: 0.0\n",
            "|   |   |   |   |--- category_home >  0.50\n",
            "|   |   |   |   |   |--- city_pop <= 6209.50\n",
            "|   |   |   |   |   |   |--- class: 1.0\n",
            "|   |   |   |   |   |--- city_pop >  6209.50\n",
            "|   |   |   |   |   |   |--- class: 0.0\n",
            "|   |   |--- category_food_dining >  0.50\n",
            "|   |   |   |--- amt <= 92.78\n",
            "|   |   |   |   |--- zip <= 1540.00\n",
            "|   |   |   |   |   |--- class: 0.0\n",
            "|   |   |   |   |--- zip >  1540.00\n",
            "|   |   |   |   |   |--- class: 0.0\n",
            "|   |   |   |--- amt >  92.78\n",
            "|   |   |   |   |--- long <= -81.50\n",
            "|   |   |   |   |   |--- gender_M <= 0.50\n",
            "|   |   |   |   |   |   |--- class: 0.0\n",
            "|   |   |   |   |   |--- gender_M >  0.50\n",
            "|   |   |   |   |   |   |--- class: 0.0\n",
            "|   |   |   |   |--- long >  -81.50\n",
            "|   |   |   |   |   |--- Unnamed: 0 <= 52670.50\n",
            "|   |   |   |   |   |   |--- class: 1.0\n",
            "|   |   |   |   |   |--- Unnamed: 0 >  52670.50\n",
            "|   |   |   |   |   |   |--- class: 0.0\n",
            "|--- amt >  259.69\n",
            "|   |--- category_travel <= 0.50\n",
            "|   |   |--- category_grocery_pos <= 0.50\n",
            "|   |   |   |--- amt <= 648.41\n",
            "|   |   |   |   |--- gender_M <= 0.50\n",
            "|   |   |   |   |   |--- Unnamed: 0 <= 31724.00\n",
            "|   |   |   |   |   |   |--- class: 0.0\n",
            "|   |   |   |   |   |--- Unnamed: 0 >  31724.00\n",
            "|   |   |   |   |   |   |--- class: 1.0\n",
            "|   |   |   |   |--- gender_M >  0.50\n",
            "|   |   |   |   |   |--- class: 0.0\n",
            "|   |   |   |--- amt >  648.41\n",
            "|   |   |   |   |--- amt <= 1267.35\n",
            "|   |   |   |   |   |--- Unnamed: 0 <= 4052.50\n",
            "|   |   |   |   |   |   |--- class: 0.0\n",
            "|   |   |   |   |   |--- Unnamed: 0 >  4052.50\n",
            "|   |   |   |   |   |   |--- class: 1.0\n",
            "|   |   |   |   |--- amt >  1267.35\n",
            "|   |   |   |   |   |--- class: 0.0\n",
            "|   |   |--- category_grocery_pos >  0.50\n",
            "|   |   |   |--- amt <= 270.50\n",
            "|   |   |   |   |--- amt <= 262.91\n",
            "|   |   |   |   |   |--- class: 1.0\n",
            "|   |   |   |   |--- amt >  262.91\n",
            "|   |   |   |   |   |--- class: 0.0\n",
            "|   |   |   |--- amt >  270.50\n",
            "|   |   |   |   |--- class: 1.0\n",
            "|   |--- category_travel >  0.50\n",
            "|   |   |--- class: 0.0\n",
            "\n"
          ]
        }
      ]
    },
    {
      "cell_type": "code",
      "source": [
        "# ✅ Evaluation metrics\n",
        "print(\"\\n=== EVALUASI ===\")\n",
        "print(confusion_matrix(y_test, y_pred_dt))\n",
        "print(classification_report(y_test, y_pred_dt))\n",
        "\n",
        "# ✅ Output prediction results\n",
        "print(\"=== PREDIKSI - Decision Tree ===\")\n",
        "print(\"Contoh 20 Prediksi:\", y_pred_dt[:20])\n",
        "print(f\"\\nWaktu Eksekusi Decision Tree: {waktu_dt:.4f} detik\")"
      ],
      "metadata": {
        "colab": {
          "base_uri": "https://localhost:8080/"
        },
        "id": "eoIwjAE2KI4a",
        "outputId": "47e75b08-10cc-42be-fefb-cf0a6861448e"
      },
      "execution_count": null,
      "outputs": [
        {
          "output_type": "stream",
          "name": "stdout",
          "text": [
            "\n",
            "=== EVALUASI ===\n",
            "[[9369  617]\n",
            " [  17   97]]\n",
            "              precision    recall  f1-score   support\n",
            "\n",
            "         0.0       1.00      0.94      0.97      9986\n",
            "         1.0       0.14      0.85      0.23       114\n",
            "\n",
            "    accuracy                           0.94     10100\n",
            "   macro avg       0.57      0.89      0.60     10100\n",
            "weighted avg       0.99      0.94      0.96     10100\n",
            "\n",
            "=== PREDIKSI - Decision Tree ===\n",
            "Contoh 20 Prediksi: [0. 0. 0. 0. 0. 0. 0. 0. 0. 0. 0. 0. 0. 0. 0. 0. 0. 0. 1. 0.]\n",
            "\n",
            "Waktu Eksekusi Decision Tree: 0.2927 detik\n"
          ]
        }
      ]
    },
    {
      "cell_type": "code",
      "source": [
        "# ✅ Train Naïve Bayes\n",
        "start_nb = time.time()\n",
        "\n",
        "nb = GaussianNB()\n",
        "nb.fit(X_train, y_train)\n",
        "y_pred_nb = nb.predict(X_test)\n",
        "\n",
        "end_nb = time.time()\n",
        "waktu_nb = end_nb - start_nb"
      ],
      "metadata": {
        "id": "vxbq8naDKet9"
      },
      "execution_count": null,
      "outputs": []
    },
    {
      "cell_type": "code",
      "source": [
        "# ✅ Output prediction\n",
        "print(\"\\n=== PREDIKSI - Naïve Bayes ===\")\n",
        "print(\"Contoh 20 Prediksi:\", y_pred_nb[:20])\n",
        "print(f\"\\nWaktu Eksekusi Naïve Bayes: {waktu_nb:.4f} detik\")"
      ],
      "metadata": {
        "colab": {
          "base_uri": "https://localhost:8080/"
        },
        "id": "qT7Qayk7KicU",
        "outputId": "83f39dce-7d26-43aa-d0dd-b5f0bcd5baad"
      },
      "execution_count": null,
      "outputs": [
        {
          "output_type": "stream",
          "name": "stdout",
          "text": [
            "\n",
            "=== PREDIKSI - Naïve Bayes ===\n",
            "Contoh 20 Prediksi: [0. 0. 0. 0. 0. 0. 0. 0. 0. 0. 0. 0. 0. 0. 0. 0. 0. 0. 0. 0.]\n",
            "\n",
            "Waktu Eksekusi Naïve Bayes: 0.0352 detik\n"
          ]
        }
      ]
    },
    {
      "cell_type": "code",
      "source": [
        "# ✅ Evaluation\n",
        "print(\"\\n=== EVALUASI - Naïve Bayes ===\")\n",
        "print(confusion_matrix(y_test, y_pred_nb))\n",
        "print(classification_report(y_test, y_pred_nb))"
      ],
      "metadata": {
        "colab": {
          "base_uri": "https://localhost:8080/"
        },
        "id": "b_cn1U49KkBl",
        "outputId": "ca5ebe64-7805-47c8-fc57-0addcdd0da7f"
      },
      "execution_count": null,
      "outputs": [
        {
          "output_type": "stream",
          "name": "stdout",
          "text": [
            "\n",
            "=== EVALUASI - Naïve Bayes ===\n",
            "[[9829  157]\n",
            " [  53   61]]\n",
            "              precision    recall  f1-score   support\n",
            "\n",
            "         0.0       0.99      0.98      0.99      9986\n",
            "         1.0       0.28      0.54      0.37       114\n",
            "\n",
            "    accuracy                           0.98     10100\n",
            "   macro avg       0.64      0.76      0.68     10100\n",
            "weighted avg       0.99      0.98      0.98     10100\n",
            "\n"
          ]
        }
      ]
    }
  ]
}